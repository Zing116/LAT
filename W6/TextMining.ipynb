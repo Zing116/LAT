{
 "cells": [
  {
   "cell_type": "code",
   "execution_count": 1,
   "id": "98db756c",
   "metadata": {},
   "outputs": [],
   "source": [
    "import openai\n",
    "import pandas as pd"
   ]
  },
  {
   "cell_type": "code",
   "execution_count": 2,
   "id": "f92744a5",
   "metadata": {},
   "outputs": [],
   "source": [
    "with open('01.txt', 'r', encoding='iso-8859-1') as fh:\n",
    "    tmp = fh.read()\n",
    "    itemlist = tmp.split(',')"
   ]
  },
  {
   "cell_type": "code",
   "execution_count": 42,
   "id": "a7649198",
   "metadata": {},
   "outputs": [],
   "source": [
    "with open('02.txt', 'r', encoding='iso-8859-1') as fh:\n",
    "    tmp = fh.read()\n",
    "    itemlist = tmp.split(',')"
   ]
  },
  {
   "cell_type": "code",
   "execution_count": 56,
   "id": "414af3ed",
   "metadata": {},
   "outputs": [],
   "source": [
    "with open('03.txt', 'r', encoding='iso-8859-1') as fh:\n",
    "    tmp = fh.read()\n",
    "    itemlist = tmp.split(',')"
   ]
  },
  {
   "cell_type": "code",
   "execution_count": 66,
   "id": "ef407882",
   "metadata": {},
   "outputs": [],
   "source": [
    "with open('04.txt', 'r', encoding='iso-8859-1') as fh:\n",
    "    tmp = fh.read()\n",
    "    itemlist = tmp.split(',')"
   ]
  },
  {
   "cell_type": "code",
   "execution_count": 77,
   "id": "b22e455d",
   "metadata": {},
   "outputs": [],
   "source": [
    "with open('05.txt', 'r', encoding='iso-8859-1') as fh:\n",
    "    tmp = fh.read()\n",
    "    itemlist = tmp.split(',')"
   ]
  },
  {
   "cell_type": "code",
   "execution_count": 78,
   "id": "671f93dd",
   "metadata": {},
   "outputs": [],
   "source": [
    "itemlist = str(itemlist)"
   ]
  },
  {
   "cell_type": "code",
   "execution_count": 79,
   "id": "3adce0f1",
   "metadata": {},
   "outputs": [],
   "source": [
    "keyfile = open(\"key.txt\", \"r\")\n",
    "key = keyfile.readline()\n",
    "openai.api_key = key"
   ]
  },
  {
   "cell_type": "code",
   "execution_count": 80,
   "id": "0c6fcb13",
   "metadata": {},
   "outputs": [],
   "source": [
    "data = [itemlist[0:3200], itemlist[3201:6400], \n",
    "        itemlist[6401:9600], itemlist[9601:12800], itemlist[12801:16000]]"
   ]
  },
  {
   "cell_type": "code",
   "execution_count": 81,
   "id": "56642f40",
   "metadata": {},
   "outputs": [
    {
     "data": {
      "text/plain": [
       "'[\"Abstract\\\\nSelf-report correlational data support self-determination theory\\'s (SDT\\'s) postulate that there are three basic psychological needs\", \\' for autonomy\\', \\' competence\\', \\' and relatedness\\', \\' which combine additively to predict well-being and thriving. However\\', \\' experimental research in the SDT tradition has focused only on autonomy support\\', \\' not relatedness and competence support. To fill this gap\\', \\' we employed a 2 Ã\\\\x97 2Ã\\\\x972 factorial design within a game-learning experience to predict rated need satisfaction\\', \\' mood\\', \\' and motivation\\', \\' and also objective game performance. Manipulated competence and relatedness support had main effects on most outcomes. Rated competence\\', \\' relatedness\\', \\' and autonomy need satisfaction also predicted the outcomes\\', \" and the significant experimental main effects were all mediated by the corresponding rated variables. Neutral control group data showed that thwarting participants\\' needs is more impactful than enhancing them. These findings offer new support for key postulates of SDT\", \\' while integrating the correlational and experimental traditions in this area.\\\\n\\\\nA central tenet of self-determination theory (SDT; Deci & Ryan\\', \\' 1985\\', \\' 1991\\', \\' 2000) is that human beings have three basic psychological needs\\', \\' namely\\', \\' for autonomy\\', \\' competence\\', \\' and relatedness. These needs are defined as required â\\\\x80\\\\x98inputsâ\\\\x80\\\\x99 that contribute additively to human thriving\\', \\' in the same way that plants require certain vital inputs in order to thrive (Ryan\\', \" 1995). Autonomy involves feeling internal assent regarding one\\'s behaviour\", \\' rather than feeling controlled or pressured; competence involves feeling efficient\\', \\' effective\\', \" and even masterful in one\\'s behaviour\", \\' rather than incompetent and ineffective; and relatedness involves feeling meaningfully connected to others\\', \\' rather than feeling alienated or ostracized. Furthermore\\', \\' the needs are defined as evolved and species typical\\', \\' and are thus thought to be universally relevant within all people and all cultures (Deci & Ryan\\', \\' 2000). The SDT conception of needs contrasts with the motive disposition conception\\', \\' which focuses upon needs as acquired individual differences in behavioural orientations (McAdams\\', \\' 2001; McClelland\\', \" 1985) that have no necessary relations with thriving and Maslow\\'s conception\", \\' which assumes a hierarchically contingent rather than an additive relation among universal needs (Maslow\\', \\' 1971).\\\\n\\\\nThe purpose of the present study was to test key tenets of SDT in a way they have not been tested before\\', \\' via an experimental manipulation of all three needs in a 2 (autonomy support: yes or no)Ã\\\\x972 (competence support: yes or no)Ã\\\\x972 (relatedness support: yes or no) between participants factorial design. Participants were taught to play the game â\\\\x80\\\\x98Boggleâ\\\\x80\\\\x99 in one of the eight ways\\', \\' and both their experience of the lesson\\', \\' and their objective performance on a Boggle skills test\\', \\' were examined as dependent variables. Below we consider the theoretical issues and gaps in the empirical literature that this design allowed us to address.\\\\n\\\\nSDT began with\\', \\''"
      ]
     },
     "execution_count": 81,
     "metadata": {},
     "output_type": "execute_result"
    }
   ],
   "source": [
    "data[0]"
   ]
  },
  {
   "cell_type": "code",
   "execution_count": 82,
   "id": "bb7c5fca",
   "metadata": {},
   "outputs": [],
   "source": [
    "def chatgptfn(sub_list):\n",
    "    result = ''\n",
    "    response = openai.ChatCompletion.create(\n",
    "        model=\"gpt-3.5-turbo\",\n",
    "        messages=[\n",
    "            {\"role\": \"system\", \"content\": \"You are an assistant\"},\n",
    "            {\"role\": \"user\", \"content\": f\"{sub_list} :give me a summary\"}\n",
    "        ]\n",
    "    )\n",
    "    for choice in response.choices:\n",
    "        result += choice.message.content\n",
    "    return result"
   ]
  },
  {
   "cell_type": "code",
   "execution_count": 83,
   "id": "8cc8e09c",
   "metadata": {},
   "outputs": [],
   "source": [
    "for i in range(0,5):\n",
    "    data[i] = chatgptfn(data[i])"
   ]
  },
  {
   "cell_type": "code",
   "execution_count": 84,
   "id": "86e96e47",
   "metadata": {},
   "outputs": [
    {
     "data": {
      "text/plain": [
       "'of a study on self-determination theory and the three basic psychological needs of humans. The study employed a 2x2x2 factorial design within a game-learning experience to predict rated need satisfaction, mood, motivation, and objective game performance. The study found that manipulated competence and relatedness support had main effects on most outcomes, and rated competence, relatedness, and autonomy need satisfaction also predicted the outcomes. The significant experimental main effects were all mediated by the corresponding rated variables. The findings offer new support for key postulates of SDT and integrate the correlational and experimental traditions in this area. The study tested key tenets of SDT in a way they have not been tested before, via an experimental manipulation of all three needs.'"
      ]
     },
     "execution_count": 84,
     "metadata": {},
     "output_type": "execute_result"
    }
   ],
   "source": [
    "data[0]"
   ]
  },
  {
   "cell_type": "code",
   "execution_count": 38,
   "id": "f27f2dec",
   "metadata": {},
   "outputs": [],
   "source": [
    "data1 = ''\n",
    "for i in range(0,5):\n",
    "    data1 = data1 +data[i]"
   ]
  },
  {
   "cell_type": "code",
   "execution_count": 39,
   "id": "dcb6349f",
   "metadata": {},
   "outputs": [
    {
     "data": {
      "text/plain": [
       "'The paper provides a literature survey on various virtual reality (VR) treatments in psychiatry, reviewing 36 studies that used VR for clinical trials or therapies. The authors investigate the use of VR in managing pain and stress, and how exposure therapies with simulated images benefit patients with psychiatric disorders such as phobia and PTSD. The review also includes discussions on the effectiveness of VR-based treatments on psychiatric illnesses such as dementia, MCI, schizophrenia and autism. Although there are technical and user issues hindering widespread adoption in psychiatry, the use of VR systems is considered a potential innovative clinical tool for patients with specific psychiatric symptoms. The paper defines VR and explains the components of VR systems, including head-mounted goggles, speakers, headphones, and haptic feedback systems.The article discusses the use of Virtual Reality (VR) in various fields, including medicine and psychiatry. VR systems can provide stimulation that helps relieve pain, stress, and anxiety in patients without causing harm. The article notes that VR has been successful in treating a wide range of psychiatric disorders, including PTSD, phobias, anxiety, depression, and cognitive and social impairments. However, there are still hurdles preventing its widespread use, such as motion sickness and addiction. The article highlights both the benefits and limitations of VR use in psychiatry and provides evidence of its utility in treating psychiatric conditions.This article discusses the use of virtual reality (VR) as a treatment option for various psychiatric disorders. The authors conducted a literature search of articles published prior to December 2018 that focused on VR and psychiatric disorders. They found 36 studies that used VR to provide various types of stimulations for patients with psychiatric problems. One area where VR has shown promise is in the treatment of posttraumatic stress disorder (PTSD). VR therapy has been used to alleviate trauma, reduce suicidal ideation, decrease depression and anger, and improve PTSD symptoms in veterans returning from Iraq and Afghanistan. VR-based habituation therapy has been found to be effective in decreasing feelings of fear and anxiety among patients with PTSD. The article also discusses the use of VR in the treatment of phobias, anxiety disorders, schizophrenia, autism, dementia and mild cognitive impairment, and pain and stress.The use of VR technology shows promising results in the assessment and treatment of anxiety disorders and specific phobias, such as social anxiety disorders, generalized anxiety disorders, acrophobia, flight phobia, and phobias for insects or animals. Exposure therapy in VR helps patients face and overcome their fears in a cost-effective and safe manner, resulting in reduced incidence of actual situations. VR technology has also been applied as a fear reduction tool and pain distraction for fear of needles, showing significant improvement in pediatric subjects. Avatar therapy for negative symptoms of schizophrenia focuses on interactive VR, allowing users to engage with a computer-generated virtual world and address anhedonia, social withdrawal, and blunted affect.Virtual Reality (VR) has exciting applications in research and treatment, especially in rehabilitation for various cognitive disorders. It has been studied and found effective in treating conditions such as schizophrenia, autism, and dementia (including mild cognitive impairment). VR therapy has shown benefits in social skills, memory function, medication management skills, job interviews, and vocational training. In autism, VR approaches have been used to create virtual environments that facilitate cognitive processes of training such as concentration and other functional skills in everyday life to improve social skills in autistic children. VR has been applied to evaluate cognitive dysfunction and detecting MCI, and it has exhibited high accuracy in doing so. VR is an emerging technology that will continuously grow in the healthcare industry.'"
      ]
     },
     "execution_count": 39,
     "metadata": {},
     "output_type": "execute_result"
    }
   ],
   "source": [
    "data1"
   ]
  },
  {
   "cell_type": "code",
   "execution_count": 54,
   "id": "50f55a51",
   "metadata": {},
   "outputs": [],
   "source": [
    "data2 = ''\n",
    "for i in range(0,5):\n",
    "    data2 = data2 +data[i]"
   ]
  },
  {
   "cell_type": "code",
   "execution_count": 55,
   "id": "f06e9516",
   "metadata": {},
   "outputs": [
    {
     "data": {
      "text/plain": [
       "\"The literature survey paper discusses the use of virtual reality (VR) in psychiatric treatments. The study reviewed 36 different studies that explore the benefits of VR in treating patients with psychiatric disorders. The paper provides evidence that VR can be effective in alleviating pain and stress, especially for anxiety and exposure therapy. The authors also examine how VR can help patients with dementia, mild cognitive impairment (MCI), schizophrenia, and autism. The paper discusses the feasibility of VR technology for patients with specific psychiatric symptoms and highlights the technical and user issues that need improvement for its potential widespread adoption. Overall, the paper presents VR as a promising clinical tool for managing psychiatric symptoms.Virtual Reality (VR) technology can be used in the medical field, video games, and military training. In the medical field, VR has shown potential in relieving pain, stress, anxiety, and improving psychological training without harming patients. VR exposure therapy has also shown benefits for patients with specific phobias or PTSD. VR has also been used for improving social activities for patients with schizophrenia and autism, and cognitive training for Amnestic MCI and Alzheimer's disease. The use of VR in psychiatry practice faces hurdles such as motion sickness, dry eyes, preoccupation, and addiction, but shows potential as a new modality in psychiatry.The article discusses how virtual reality (VR) is being used as a form of treatment in the field of psychiatry. The article summarizes a PubMed literature search that identified 36 studies that used VR to provide various types of stimulations for patients with psychiatric problems. Specifically, the article discusses how VR can be used to treat Posttraumatic Stress Disorders (PTSD) by exposing patients to sources of their disorder, helping to decrease feelings of fear and anxiety. The article cites several studies that have demonstrated the effectiveness of VR-based therapy for PTSD, particularly for veterans who have been exposed to battles in Iraq and Afghanistan. The article concludes by highlighting how VR can be an ideal environment for therapeutic treatment because of its flexibility and customization.The use of virtual reality (VR) technology is promising in the assessment and therapy of anxiety disorders and specific phobias, such as social anxiety, generalized anxiety, acrophobia, and flight and animal phobias. VR can replicate real-life scenarios that trigger anxiety and help patients face and overcome their fears. Studies have shown that VR exposure therapy is effective in reducing anxiety and increasing the threshold of fear. In addition, interactive VR, called avatar therapy, has been used to improve negative symptoms of schizophrenia, such as anhedonia, social withdrawal, and blunted affect. VR therapy is cost-effective and can be safely applied at home or in the hospital. The potential of VR in mental health care is still being explored and quantitatively analyzed.Virtual reality (VR) has become an increasingly popular tool for rehabilitation in various fields, including mental health. It allows individuals to interact with a simulated environment and can be used to treat conditions such as anxiety disorders, post-traumatic stress disorder (PTSD), and schizophrenia. VR has been found to be particularly effective in social skills training, memory function, medication management, job interviews, and vocational training. Additionally, VR therapy has shown promising results in rehabilitating individuals with autism and dementia-related disorders, including mild cognitive impairment (MCI). VR-based cognitive rehabilitation programs could be used to prevent cognitive decline and enhance cognitive reserve, which is essential in preventing Alzheimer’s disease.\""
      ]
     },
     "execution_count": 55,
     "metadata": {},
     "output_type": "execute_result"
    }
   ],
   "source": [
    "data2"
   ]
  },
  {
   "cell_type": "code",
   "execution_count": 64,
   "id": "51889378",
   "metadata": {},
   "outputs": [],
   "source": [
    "data3 = ''\n",
    "for i in range(0,5):\n",
    "    data3 = data3 +data[i]"
   ]
  },
  {
   "cell_type": "code",
   "execution_count": 65,
   "id": "7d4e5a69",
   "metadata": {},
   "outputs": [
    {
     "data": {
      "text/plain": [
       "'The article discusses the current state of virtual reality (VR) technologies and applications and their use in product design and decision-making processes. The author refers to a seminal paper by Fred Brooks, a virtual reality pioneer, who concluded that VR had finally arrived in 1999. The article presents the results of a survey conducted among 18 companies using VR via on-site visits and remote conference calls. The survey highlights the maturity, stability, and usability of VR technologies and their active use in various industries. The article also provides an overview of the core VR technologies that enable people to experience a virtual environment, particularly displays for sight, hearing, and touch.Virtual reality (VR) is a technology that simulates a virtual environment that can be interacted with using various devices such as head-mounted displays, handheld controllers, and haptic devices. VR experiences are created through a combination of hardware components such as displays, tracking systems, and audio displays. The primary goal of VR is to produce a sense of presence within the virtual environment, which can be achieved by mimicking how humans perceive and process information from the world around them. The idea of VR was first conceived by Ivan Sutherland in 1965, and since then, the technology has seen significant growth and adoption.The article describes the history of virtual reality technology, including its origins in the 1960s and the development of hardware and software advances in the following decades. It discusses the growing interest in the use of VR technology in industry and summarizes surveys and research on topics such as motion capture, haptics, and tracking systems. The article concludes by noting that virtual reality research has flourished in recent years, with contributions from both the academic and industrial communities.The article discusses how virtual reality (VR) has been adopted in various industries to serve different needs. While there have been technical challenges associated with VR, many have been overcome, and the technology is now mature, stable, and usable. The article reports on an NSF-sponsored research project that aimed to understand how industry is using VR to empower innovation and help people make decisions through a survey of on-site interviews with VR practitioners. The survey focused on applications where real users are using VR for experienced benefits, and the authors adopted the definition of VR put forth by Brooks (1999). The article concludes that VR has enabled people to make decisions in new ways and presents motivating questions and future research directions in this area.The article discusses a survey conducted to better understand the current state of virtual reality (VR) applications and technology in industries, specifically in aiding decision-making for product design processes. The scope of the survey excludes video game applications, simulators, and training applications. The authors generated a list of 50 VR facilities through various methods, including literature review, customer testimonials, personal knowledge, and interview referrals. On-site visits were conducted, consisting of tours and demonstrations of the facilities and individual or group interviews with participants. The article aims to provide insights into the use of VR in decision-making for product design in various industries.'"
      ]
     },
     "execution_count": 65,
     "metadata": {},
     "output_type": "execute_result"
    }
   ],
   "source": [
    "data3"
   ]
  },
  {
   "cell_type": "code",
   "execution_count": 75,
   "id": "e94927fd",
   "metadata": {},
   "outputs": [],
   "source": [
    "data4 = ''\n",
    "for i in range(0,5):\n",
    "    data4 = data4 +data[i]"
   ]
  },
  {
   "cell_type": "code",
   "execution_count": 76,
   "id": "976c2bef",
   "metadata": {},
   "outputs": [
    {
     "data": {
      "text/plain": [
       "'This paper presents a system for tracking a hand-held camera in an AR workspace without any prior map or known objects. The system splits tracking and mapping into two separate tasks, processed in parallel threads on a dual-core computer. One thread tracks erratic hand-held motion while the other produces a 3D map of point features from previously observed video frames. The result is a system that produces detailed maps with thousands of landmarks which can be tracked at frame-rate with high accuracy and robustness.This article explores a new approach to AR (augmented reality) that uses a generated map as a sandbox for virtual simulations, rather than relying on a prior map to create meaningful augmentations. The system estimates a dominant plane from the mapped points and allows it to be populated with virtual characters, essentially turning any flat surface into a playing field for VR simulations. The article outlines the proposed method and contrasts it with previous methods, with a focus on camera tracking and mapping. The system is designed to be used in small, mostly static environments, making it suitable for workspace-related AR applications.The article discusses a new approach for mapping and tracking a single hand-held camera using the 5-Point Algorithm. The approach separates the tracking and mapping processes, allowing for more robust tracking methods and the ability to use only keyframes for mapping. The use of bundle adjustment also provides a more accurate mapping method. The article compares this approach to current state-of-the-art systems and argues for the benefits of a split between tracking and mapping.The article discusses a new method for SLAM (Simultaneous Localization and Mapping) using SfM (Structure-from-Motion) techniques. It compares and contrasts its approach with other SLAM methods, such as those that use particle filters, image descriptors, and batch techniques. The article highlights the advantages of its approach, which includes building a long-term map and constantly revisiting features. The article also mentions previous work that attempts to improve the robustness of monocular SLAM and extensible tracking using batch techniques. Lastly, the article compares its approach with recent work that uses SfM techniques to map and track unknown environments.The document explains a point-based augmented reality system that uses a handheld camera and a map of 3D points to track and overlay graphics on the real-world environment in real-time. The system operates in two stages: tracking and mapping. The map is a collection of M point features that represent locally planar textured patches in the world. Each keyframe stores a pyramid of greyscale images, and each point feature stores a reference to a single source keyframe and source pyramid level. The point-based tracking system receives images from the camera and maintains a real-time estimate of the camera pose relative to the built map to enable the overlay of graphics on the real-world environment.'"
      ]
     },
     "execution_count": 76,
     "metadata": {},
     "output_type": "execute_result"
    }
   ],
   "source": [
    "data4"
   ]
  },
  {
   "cell_type": "code",
   "execution_count": 85,
   "id": "77a7e548",
   "metadata": {},
   "outputs": [],
   "source": [
    "data5 = ''\n",
    "for i in range(0,5):\n",
    "    data5 = data5 +data[i]"
   ]
  },
  {
   "cell_type": "code",
   "execution_count": 86,
   "id": "f73b66a9",
   "metadata": {},
   "outputs": [
    {
     "data": {
      "text/plain": [
       "\"of a study on self-determination theory and the three basic psychological needs of humans. The study employed a 2x2x2 factorial design within a game-learning experience to predict rated need satisfaction, mood, motivation, and objective game performance. The study found that manipulated competence and relatedness support had main effects on most outcomes, and rated competence, relatedness, and autonomy need satisfaction also predicted the outcomes. The significant experimental main effects were all mediated by the corresponding rated variables. The findings offer new support for key postulates of SDT and integrate the correlational and experimental traditions in this area. The study tested key tenets of SDT in a way they have not been tested before, via an experimental manipulation of all three needs.This passage discusses self-determination theory (SDT), which explains how people's intrinsic motivation can be either supported or undermined in different social-contextual settings. SDT suggests that people are more likely to be intrinsically motivated when they feel a sense of autonomy, competence, and relatedness within a task setting. Over the years, SDT researchers have conducted numerous studies manipulating autonomy support and have shown consistent effects on intrinsic motivation. However, compared to autonomy, competence and relatedness needs have been rarely manipulated as experimental factors. Instead, researchers have typically measured satisfaction of these three needs via self-report and found that these three needs are important for predicting people's positive mood, well-being, and thriving.The article discusses the Self-Determination Theory (SDT) and the importance of three needs - autonomy, competence, and relatedness - on individual functioning and well-being. While past research supports the importance of all three needs in predicting positive outcomes, the use of self-report data has been criticized. The article sets out to conduct an experimental study to validate the SDT proposal and explore the possibility of interactions between the needs. The study aims to provide specific information on the types of outcomes affected by each need.The study aimed to investigate how psychological needs satisfaction affects intrinsic motivation and actual performance in a game-learning context. The game chosen was Boggle, and participants were randomly assigned to one of eight conditions that varied the utterances of the experimenter during introductory, learning, and performance phases. The dependent measures were rated satisfaction of autonomy, competence, and relatedness needs, mood, self-reported intrinsic motivation, and willingness to recommend the experiment, as well as objective game scores during the performance phase, controlling for scholastic aptitude. Participants were 196 introductory psychology students at the University of Missouri, who participated to fulfill a course requirement. The study could give insight into trade-offs that occur when social contexts prioritize satisfaction of one need at the expense of another.The study aimed to investigate the effects of autonomy support, competence support, and relatedness support on task performance and motivation. Participants were randomly assigned to one of eight conditions and given a pre-test and post-test grid task. The autonomy support condition emphasized choice and self-direction, while the non-autonomy conditions emphasized experimenter control and the absence of choice. The competence and relatedness support manipulations were based on past research and conceptual definitions. A ninth control group was also included for comparison. The results were analyzed by considering the number and length of valid words listed by participants. The study found that autonomy support, competence support, and relatedness support all had positive effects on task performance and motivation.\""
      ]
     },
     "execution_count": 86,
     "metadata": {},
     "output_type": "execute_result"
    }
   ],
   "source": [
    "data5"
   ]
  },
  {
   "cell_type": "code",
   "execution_count": 87,
   "id": "741add57",
   "metadata": {},
   "outputs": [],
   "source": [
    "papers = [data1, data2, data3, data4, data5]"
   ]
  },
  {
   "cell_type": "code",
   "execution_count": 88,
   "id": "775265fa",
   "metadata": {},
   "outputs": [],
   "source": [
    "import gensim\n",
    "from gensim import corpora\n",
    "from pprint import pprint"
   ]
  },
  {
   "cell_type": "code",
   "execution_count": 89,
   "id": "d905021c",
   "metadata": {},
   "outputs": [],
   "source": [
    "# 創建詞袋\n",
    "texts = [[word for word in document.lower().split()] for document in papers]\n",
    "dictionary = corpora.Dictionary(texts)\n",
    "corpus = [dictionary.doc2bow(text) for text in texts]"
   ]
  },
  {
   "cell_type": "code",
   "execution_count": 90,
   "id": "911dea5e",
   "metadata": {},
   "outputs": [],
   "source": [
    "# 訓練 LDA 模型\n",
    "lda_model = gensim.models.ldamodel.LdaModel(corpus=corpus, id2word=dictionary, \n",
    "                                            num_topics=3, random_state=100, update_every=1, \n",
    "                                            chunksize=100, passes=10, alpha='auto', per_word_topics=True)"
   ]
  },
  {
   "cell_type": "code",
   "execution_count": 91,
   "id": "9b194905",
   "metadata": {},
   "outputs": [
    {
     "ename": "ModuleNotFoundError",
     "evalue": "No module named 'pyLDAvis'",
     "output_type": "error",
     "traceback": [
      "\u001b[1;31m---------------------------------------------------------------------------\u001b[0m",
      "\u001b[1;31mModuleNotFoundError\u001b[0m                       Traceback (most recent call last)",
      "\u001b[1;32m~\\AppData\\Local\\Temp\\ipykernel_10724\\1380282904.py\u001b[0m in \u001b[0;36m<module>\u001b[1;34m\u001b[0m\n\u001b[0;32m      1\u001b[0m \u001b[1;31m# 輸出主題模型分析結果\u001b[0m\u001b[1;33m\u001b[0m\u001b[1;33m\u001b[0m\u001b[0m\n\u001b[1;32m----> 2\u001b[1;33m \u001b[1;32mimport\u001b[0m \u001b[0mpyLDAvis\u001b[0m\u001b[1;33m.\u001b[0m\u001b[0mgensim\u001b[0m\u001b[1;33m\u001b[0m\u001b[1;33m\u001b[0m\u001b[0m\n\u001b[0m\u001b[0;32m      3\u001b[0m \u001b[0mpyLDAvis\u001b[0m\u001b[1;33m.\u001b[0m\u001b[0menable_notebook\u001b[0m\u001b[1;33m(\u001b[0m\u001b[1;33m)\u001b[0m\u001b[1;33m\u001b[0m\u001b[1;33m\u001b[0m\u001b[0m\n\u001b[0;32m      4\u001b[0m \u001b[0mvis\u001b[0m \u001b[1;33m=\u001b[0m \u001b[0mpyLDAvis\u001b[0m\u001b[1;33m.\u001b[0m\u001b[0mgensim\u001b[0m\u001b[1;33m.\u001b[0m\u001b[0mprepare\u001b[0m\u001b[1;33m(\u001b[0m\u001b[0mlda_model\u001b[0m\u001b[1;33m,\u001b[0m \u001b[0mcorpus\u001b[0m\u001b[1;33m,\u001b[0m \u001b[0mdictionary\u001b[0m\u001b[1;33m)\u001b[0m\u001b[1;33m\u001b[0m\u001b[1;33m\u001b[0m\u001b[0m\n\u001b[0;32m      5\u001b[0m \u001b[0mpyLDAvis\u001b[0m\u001b[1;33m.\u001b[0m\u001b[0mdisplay\u001b[0m\u001b[1;33m(\u001b[0m\u001b[0mvis\u001b[0m\u001b[1;33m)\u001b[0m\u001b[1;33m\u001b[0m\u001b[1;33m\u001b[0m\u001b[0m\n",
      "\u001b[1;31mModuleNotFoundError\u001b[0m: No module named 'pyLDAvis'"
     ]
    }
   ],
   "source": [
    "# 輸出主題模型分析結果\n",
    "import pyLDAvis.gensim\n",
    "pyLDAvis.enable_notebook()\n",
    "vis = pyLDAvis.gensim.prepare(lda_model, corpus, dictionary)\n",
    "pyLDAvis.display(vis)"
   ]
  },
  {
   "cell_type": "code",
   "execution_count": null,
   "id": "f9ef5f53",
   "metadata": {},
   "outputs": [],
   "source": []
  }
 ],
 "metadata": {
  "kernelspec": {
   "display_name": "Python 3 (ipykernel)",
   "language": "python",
   "name": "python3"
  },
  "language_info": {
   "codemirror_mode": {
    "name": "ipython",
    "version": 3
   },
   "file_extension": ".py",
   "mimetype": "text/x-python",
   "name": "python",
   "nbconvert_exporter": "python",
   "pygments_lexer": "ipython3",
   "version": "3.9.13"
  }
 },
 "nbformat": 4,
 "nbformat_minor": 5
}
