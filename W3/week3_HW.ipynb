{
 "cells": [
  {
   "attachments": {},
   "cell_type": "markdown",
   "metadata": {},
   "source": [
    "# HW1 請自行找一組與教育相關的資料，並對這組資料提問十個問題後，使用pandas回答"
   ]
  },
  {
   "attachments": {},
   "cell_type": "markdown",
   "metadata": {},
   "source": [
    "導入資料"
   ]
  },
  {
   "cell_type": "code",
   "execution_count": 7,
   "metadata": {},
   "outputs": [
    {
     "data": {
      "text/html": [
       "<div>\n",
       "<style scoped>\n",
       "    .dataframe tbody tr th:only-of-type {\n",
       "        vertical-align: middle;\n",
       "    }\n",
       "\n",
       "    .dataframe tbody tr th {\n",
       "        vertical-align: top;\n",
       "    }\n",
       "\n",
       "    .dataframe thead th {\n",
       "        text-align: right;\n",
       "    }\n",
       "</style>\n",
       "<table border=\"1\" class=\"dataframe\">\n",
       "  <thead>\n",
       "    <tr style=\"text-align: right;\">\n",
       "      <th></th>\n",
       "      <th>學年度</th>\n",
       "      <th>學期</th>\n",
       "      <th>設立別</th>\n",
       "      <th>學校類別</th>\n",
       "      <th>學校統計處代碼</th>\n",
       "      <th>學校名稱</th>\n",
       "      <th>學制班別</th>\n",
       "      <th>性別</th>\n",
       "      <th>在學學生數</th>\n",
       "      <th>退學人數小計</th>\n",
       "      <th>...</th>\n",
       "      <th>因志趣不合退學人數</th>\n",
       "      <th>因逾期未註冊退學人數</th>\n",
       "      <th>因休學逾期未復學退學人數</th>\n",
       "      <th>因懷孕退學人數</th>\n",
       "      <th>因育嬰退學人數</th>\n",
       "      <th>因病退學人數</th>\n",
       "      <th>因工作需求退學人數</th>\n",
       "      <th>因經濟困難退學人數</th>\n",
       "      <th>因生涯規劃退學人數</th>\n",
       "      <th>其他(不含死亡)退學人數</th>\n",
       "    </tr>\n",
       "  </thead>\n",
       "  <tbody>\n",
       "    <tr>\n",
       "      <th>0</th>\n",
       "      <td>105</td>\n",
       "      <td>1</td>\n",
       "      <td>公立</td>\n",
       "      <td>一般大學</td>\n",
       "      <td>0001</td>\n",
       "      <td>國立政治大學</td>\n",
       "      <td>學士班(日間)</td>\n",
       "      <td>男</td>\n",
       "      <td>3,912</td>\n",
       "      <td>53</td>\n",
       "      <td>...</td>\n",
       "      <td>12</td>\n",
       "      <td>0</td>\n",
       "      <td>33</td>\n",
       "      <td>0</td>\n",
       "      <td>0</td>\n",
       "      <td>0</td>\n",
       "      <td>0</td>\n",
       "      <td>...</td>\n",
       "      <td>...</td>\n",
       "      <td>2</td>\n",
       "    </tr>\n",
       "    <tr>\n",
       "      <th>1</th>\n",
       "      <td>105</td>\n",
       "      <td>1</td>\n",
       "      <td>公立</td>\n",
       "      <td>一般大學</td>\n",
       "      <td>0001</td>\n",
       "      <td>國立政治大學</td>\n",
       "      <td>碩士班(日間)</td>\n",
       "      <td>男</td>\n",
       "      <td>1,808</td>\n",
       "      <td>71</td>\n",
       "      <td>...</td>\n",
       "      <td>15</td>\n",
       "      <td>0</td>\n",
       "      <td>49</td>\n",
       "      <td>0</td>\n",
       "      <td>0</td>\n",
       "      <td>0</td>\n",
       "      <td>0</td>\n",
       "      <td>...</td>\n",
       "      <td>...</td>\n",
       "      <td>2</td>\n",
       "    </tr>\n",
       "    <tr>\n",
       "      <th>2</th>\n",
       "      <td>105</td>\n",
       "      <td>1</td>\n",
       "      <td>公立</td>\n",
       "      <td>一般大學</td>\n",
       "      <td>0001</td>\n",
       "      <td>國立政治大學</td>\n",
       "      <td>碩士在職專班</td>\n",
       "      <td>男</td>\n",
       "      <td>882</td>\n",
       "      <td>24</td>\n",
       "      <td>...</td>\n",
       "      <td>3</td>\n",
       "      <td>0</td>\n",
       "      <td>20</td>\n",
       "      <td>0</td>\n",
       "      <td>0</td>\n",
       "      <td>0</td>\n",
       "      <td>0</td>\n",
       "      <td>...</td>\n",
       "      <td>...</td>\n",
       "      <td>1</td>\n",
       "    </tr>\n",
       "    <tr>\n",
       "      <th>3</th>\n",
       "      <td>105</td>\n",
       "      <td>1</td>\n",
       "      <td>公立</td>\n",
       "      <td>一般大學</td>\n",
       "      <td>0001</td>\n",
       "      <td>國立政治大學</td>\n",
       "      <td>博士班</td>\n",
       "      <td>男</td>\n",
       "      <td>605</td>\n",
       "      <td>30</td>\n",
       "      <td>...</td>\n",
       "      <td>5</td>\n",
       "      <td>0</td>\n",
       "      <td>21</td>\n",
       "      <td>0</td>\n",
       "      <td>0</td>\n",
       "      <td>0</td>\n",
       "      <td>0</td>\n",
       "      <td>...</td>\n",
       "      <td>...</td>\n",
       "      <td>0</td>\n",
       "    </tr>\n",
       "    <tr>\n",
       "      <th>4</th>\n",
       "      <td>105</td>\n",
       "      <td>1</td>\n",
       "      <td>公立</td>\n",
       "      <td>一般大學</td>\n",
       "      <td>0001</td>\n",
       "      <td>國立政治大學</td>\n",
       "      <td>學士班(日間)</td>\n",
       "      <td>女</td>\n",
       "      <td>5,799</td>\n",
       "      <td>58</td>\n",
       "      <td>...</td>\n",
       "      <td>24</td>\n",
       "      <td>0</td>\n",
       "      <td>30</td>\n",
       "      <td>0</td>\n",
       "      <td>0</td>\n",
       "      <td>0</td>\n",
       "      <td>0</td>\n",
       "      <td>...</td>\n",
       "      <td>...</td>\n",
       "      <td>2</td>\n",
       "    </tr>\n",
       "  </tbody>\n",
       "</table>\n",
       "<p>5 rows × 22 columns</p>\n",
       "</div>"
      ],
      "text/plain": [
       "   學年度  學期 設立別  學校類別 學校統計處代碼    學校名稱     學制班別 性別  在學學生數  退學人數小計  ...  \\\n",
       "0  105   1  公立  一般大學    0001  國立政治大學  學士班(日間)  男  3,912      53  ...   \n",
       "1  105   1  公立  一般大學    0001  國立政治大學  碩士班(日間)  男  1,808      71  ...   \n",
       "2  105   1  公立  一般大學    0001  國立政治大學   碩士在職專班  男    882      24  ...   \n",
       "3  105   1  公立  一般大學    0001  國立政治大學      博士班  男    605      30  ...   \n",
       "4  105   1  公立  一般大學    0001  國立政治大學  學士班(日間)  女  5,799      58  ...   \n",
       "\n",
       "   因志趣不合退學人數  因逾期未註冊退學人數  因休學逾期未復學退學人數  因懷孕退學人數  因育嬰退學人數  因病退學人數  因工作需求退學人數  \\\n",
       "0         12           0            33        0        0       0          0   \n",
       "1         15           0            49        0        0       0          0   \n",
       "2          3           0            20        0        0       0          0   \n",
       "3          5           0            21        0        0       0          0   \n",
       "4         24           0            30        0        0       0          0   \n",
       "\n",
       "   因經濟困難退學人數  因生涯規劃退學人數 其他(不含死亡)退學人數  \n",
       "0        ...        ...            2  \n",
       "1        ...        ...            2  \n",
       "2        ...        ...            1  \n",
       "3        ...        ...            0  \n",
       "4        ...        ...            2  \n",
       "\n",
       "[5 rows x 22 columns]"
      ]
     },
     "execution_count": 7,
     "metadata": {},
     "output_type": "execute_result"
    }
   ],
   "source": [
    "import pandas as pd\n",
    "\n",
    "df = pd.read_csv('各校退學人數.csv')\n",
    "\n",
    "df.head()"
   ]
  },
  {
   "attachments": {},
   "cell_type": "markdown",
   "metadata": {},
   "source": [
    "1.這份資料有幾筆?"
   ]
  },
  {
   "cell_type": "code",
   "execution_count": 158,
   "metadata": {},
   "outputs": [
    {
     "name": "stdout",
     "output_type": "stream",
     "text": [
      "資料筆數： 8015\n"
     ]
    }
   ],
   "source": [
    "# 觀察資料筆數\n",
    "print(\"資料筆數：\", len(df))\n"
   ]
  },
  {
   "attachments": {},
   "cell_type": "markdown",
   "metadata": {},
   "source": [
    "2.這份資料有哪些大學?"
   ]
  },
  {
   "cell_type": "code",
   "execution_count": 57,
   "metadata": {},
   "outputs": [
    {
     "name": "stdout",
     "output_type": "stream",
     "text": [
      "                      學校名稱\n",
      "0                   國立政治大學\n",
      "1                   國立清華大學\n",
      "2                   國立臺灣大學\n",
      "3                 國立臺灣師範大學\n",
      "4                   國立成功大學\n",
      "..                     ...\n",
      "159               國立高雄科技大學\n",
      "160  學校財團法人中華浸信會基督教台灣浸會神學院\n",
      "161       台神學校財團法人台灣神學研究學院\n",
      "162                一貫道崇德學院\n",
      "163          台灣基督長老教會南神神學院\n",
      "\n",
      "[164 rows x 1 columns]\n"
     ]
    }
   ],
   "source": [
    "# 找出所有不重複的學校名稱\n",
    "universities = df['學校名稱'].unique()\n",
    "# 將所有學校名稱放進一個 DataFrame 中\n",
    "df_universities = pd.DataFrame(universities, columns=['學校名稱'])\n",
    "\n",
    "# 顯示 DataFrame\n",
    "print(df_universities)\n"
   ]
  },
  {
   "attachments": {},
   "cell_type": "markdown",
   "metadata": {},
   "source": [
    "3.顯示各校的退學人數總和"
   ]
  },
  {
   "cell_type": "code",
   "execution_count": 79,
   "metadata": {},
   "outputs": [
    {
     "name": "stdout",
     "output_type": "stream",
     "text": [
      "學校名稱\n",
      "一貫道崇德學院                2\n",
      "世新大學                1840\n",
      "中信學校財團法人中信金融管理學院     145\n",
      "中原大學                2961\n",
      "中國文化大學              6194\n",
      "                    ... \n",
      "高美醫護管理專科學校            31\n",
      "高苑科技大學              2702\n",
      "高雄醫學大學               969\n",
      "黎明技術學院              1461\n",
      "龍華科技大學              3466\n",
      "Name: 退學人數小計, Length: 164, dtype: int64\n"
     ]
    }
   ],
   "source": [
    "print(df.groupby('學校名稱')['退學人數小計'].sum())"
   ]
  },
  {
   "attachments": {},
   "cell_type": "markdown",
   "metadata": {},
   "source": [
    "4.退學人數前10高的學校為何?"
   ]
  },
  {
   "cell_type": "code",
   "execution_count": 169,
   "metadata": {},
   "outputs": [
    {
     "name": "stdout",
     "output_type": "stream",
     "text": [
      "學校名稱\n",
      "中國文化大學            6194\n",
      "輔仁大學              5284\n",
      "淡江大學              5123\n",
      "正修學校財團法人正修科技大學    4909\n",
      "明新學校財團法人明新科技大學    4361\n",
      "義守大學              3808\n",
      "國立臺灣大學            3732\n",
      "龍華科技大學            3466\n",
      "朝陽科技大學            3440\n",
      "實踐大學              3417\n",
      "Name: 退學人數小計, dtype: int64\n"
     ]
    }
   ],
   "source": [
    "\n",
    "# 使用 groupby 方法以學校名稱為基礎分組，計算每個組別的退學人數總和\n",
    "grouped = df.groupby('學校名稱')['退學人數小計'].sum()\n",
    "\n",
    "# 以遞減方式排序，並顯示前5筆資料\n",
    "print(grouped.sort_values(ascending=False).head(10))\n"
   ]
  },
  {
   "attachments": {},
   "cell_type": "markdown",
   "metadata": {},
   "source": [
    "5.退學人數前10低的學校為何?"
   ]
  },
  {
   "cell_type": "code",
   "execution_count": 167,
   "metadata": {},
   "outputs": [
    {
     "data": {
      "text/plain": [
       "學校名稱\n",
       "台灣基督長老教會南神神學院              0\n",
       "台神學校財團法人台灣神學研究學院           1\n",
       "學校財團法人中華浸信會基督教台灣浸會神學院      2\n",
       "一貫道崇德學院                    2\n",
       "財團法人一貫道天皇基金會一貫道天皇學院       21\n",
       "高美醫護管理專科學校                31\n",
       "臺北基督學院                    43\n",
       "馬偕學校財團法人馬偕醫學院             64\n",
       "法鼓學校財團法人法鼓文理學院            92\n",
       "國立臺南護理專科學校               136\n",
       "Name: 退學人數小計, dtype: int64"
      ]
     },
     "execution_count": 167,
     "metadata": {},
     "output_type": "execute_result"
    }
   ],
   "source": [
    "grouped.sort_values(ascending=True).head(10)"
   ]
  },
  {
   "attachments": {},
   "cell_type": "markdown",
   "metadata": {},
   "source": []
  },
  {
   "attachments": {},
   "cell_type": "markdown",
   "metadata": {},
   "source": [
    "6.男生退學人數前10低的學校為何?"
   ]
  },
  {
   "cell_type": "code",
   "execution_count": 166,
   "metadata": {},
   "outputs": [
    {
     "data": {
      "text/html": [
       "<div>\n",
       "<style scoped>\n",
       "    .dataframe tbody tr th:only-of-type {\n",
       "        vertical-align: middle;\n",
       "    }\n",
       "\n",
       "    .dataframe tbody tr th {\n",
       "        vertical-align: top;\n",
       "    }\n",
       "\n",
       "    .dataframe thead th {\n",
       "        text-align: right;\n",
       "    }\n",
       "</style>\n",
       "<table border=\"1\" class=\"dataframe\">\n",
       "  <thead>\n",
       "    <tr style=\"text-align: right;\">\n",
       "      <th></th>\n",
       "      <th>學校名稱</th>\n",
       "    </tr>\n",
       "  </thead>\n",
       "  <tbody>\n",
       "    <tr>\n",
       "      <th>4815</th>\n",
       "      <td>光宇學校財團法人元培醫事科技大學</td>\n",
       "    </tr>\n",
       "    <tr>\n",
       "      <th>4306</th>\n",
       "      <td>國立臺南護理專科學校</td>\n",
       "    </tr>\n",
       "    <tr>\n",
       "      <th>7345</th>\n",
       "      <td>中山醫學大學</td>\n",
       "    </tr>\n",
       "    <tr>\n",
       "      <th>5266</th>\n",
       "      <td>財團法人一貫道天皇基金會一貫道天皇學院</td>\n",
       "    </tr>\n",
       "    <tr>\n",
       "      <th>5267</th>\n",
       "      <td>財團法人一貫道天皇基金會一貫道天皇學院</td>\n",
       "    </tr>\n",
       "    <tr>\n",
       "      <th>4304</th>\n",
       "      <td>國立臺南護理專科學校</td>\n",
       "    </tr>\n",
       "    <tr>\n",
       "      <th>4301</th>\n",
       "      <td>國立臺灣戲曲學院</td>\n",
       "    </tr>\n",
       "    <tr>\n",
       "      <th>2863</th>\n",
       "      <td>國立臺北商業大學</td>\n",
       "    </tr>\n",
       "    <tr>\n",
       "      <th>4282</th>\n",
       "      <td>國立屏東大學</td>\n",
       "    </tr>\n",
       "    <tr>\n",
       "      <th>6587</th>\n",
       "      <td>法鼓學校財團法人法鼓文理學院</td>\n",
       "    </tr>\n",
       "  </tbody>\n",
       "</table>\n",
       "</div>"
      ],
      "text/plain": [
       "                     學校名稱\n",
       "4815     光宇學校財團法人元培醫事科技大學\n",
       "4306           國立臺南護理專科學校\n",
       "7345               中山醫學大學\n",
       "5266  財團法人一貫道天皇基金會一貫道天皇學院\n",
       "5267  財團法人一貫道天皇基金會一貫道天皇學院\n",
       "4304           國立臺南護理專科學校\n",
       "4301             國立臺灣戲曲學院\n",
       "2863             國立臺北商業大學\n",
       "4282               國立屏東大學\n",
       "6587       法鼓學校財團法人法鼓文理學院"
      ]
     },
     "execution_count": 166,
     "metadata": {},
     "output_type": "execute_result"
    }
   ],
   "source": [
    "# 取出男生退學人數資料\n",
    "male_dropout = df[df['性別'] == '男'][['學校名稱', '退學人數小計']]\n",
    "# 依照退學人數小計做遞增排序，並取前10筆\n",
    "lowest_male_dropout = male_dropout.sort_values('退學人數小計', ascending=True).head(10)\n",
    "# 顯示結果\n",
    "lowest_male_dropout[['學校名稱']]"
   ]
  },
  {
   "attachments": {},
   "cell_type": "markdown",
   "metadata": {},
   "source": [
    "7.女生退學人數前10低的學校為何?"
   ]
  },
  {
   "cell_type": "code",
   "execution_count": 164,
   "metadata": {},
   "outputs": [
    {
     "data": {
      "text/html": [
       "<div>\n",
       "<style scoped>\n",
       "    .dataframe tbody tr th:only-of-type {\n",
       "        vertical-align: middle;\n",
       "    }\n",
       "\n",
       "    .dataframe tbody tr th {\n",
       "        vertical-align: top;\n",
       "    }\n",
       "\n",
       "    .dataframe thead th {\n",
       "        text-align: right;\n",
       "    }\n",
       "</style>\n",
       "<table border=\"1\" class=\"dataframe\">\n",
       "  <thead>\n",
       "    <tr style=\"text-align: right;\">\n",
       "      <th></th>\n",
       "      <th>學校名稱</th>\n",
       "    </tr>\n",
       "  </thead>\n",
       "  <tbody>\n",
       "    <tr>\n",
       "      <th>5271</th>\n",
       "      <td>台神學校財團法人台灣神學研究學院</td>\n",
       "    </tr>\n",
       "    <tr>\n",
       "      <th>4265</th>\n",
       "      <td>國立臺中科技大學</td>\n",
       "    </tr>\n",
       "    <tr>\n",
       "      <th>6474</th>\n",
       "      <td>東方學校財團法人東方設計大學</td>\n",
       "    </tr>\n",
       "    <tr>\n",
       "      <th>6475</th>\n",
       "      <td>東方學校財團法人東方設計大學</td>\n",
       "    </tr>\n",
       "    <tr>\n",
       "      <th>4251</th>\n",
       "      <td>國立臺灣體育運動大學</td>\n",
       "    </tr>\n",
       "    <tr>\n",
       "      <th>6488</th>\n",
       "      <td>台北海洋學校財團法人台北海洋科技大學</td>\n",
       "    </tr>\n",
       "    <tr>\n",
       "      <th>6489</th>\n",
       "      <td>台北海洋學校財團法人台北海洋科技大學</td>\n",
       "    </tr>\n",
       "    <tr>\n",
       "      <th>4243</th>\n",
       "      <td>國立金門大學</td>\n",
       "    </tr>\n",
       "    <tr>\n",
       "      <th>4242</th>\n",
       "      <td>國立金門大學</td>\n",
       "    </tr>\n",
       "    <tr>\n",
       "      <th>6497</th>\n",
       "      <td>中信學校財團法人中信金融管理學院</td>\n",
       "    </tr>\n",
       "  </tbody>\n",
       "</table>\n",
       "</div>"
      ],
      "text/plain": [
       "                    學校名稱\n",
       "5271    台神學校財團法人台灣神學研究學院\n",
       "4265            國立臺中科技大學\n",
       "6474      東方學校財團法人東方設計大學\n",
       "6475      東方學校財團法人東方設計大學\n",
       "4251          國立臺灣體育運動大學\n",
       "6488  台北海洋學校財團法人台北海洋科技大學\n",
       "6489  台北海洋學校財團法人台北海洋科技大學\n",
       "4243              國立金門大學\n",
       "4242              國立金門大學\n",
       "6497    中信學校財團法人中信金融管理學院"
      ]
     },
     "execution_count": 164,
     "metadata": {},
     "output_type": "execute_result"
    }
   ],
   "source": [
    "# 取出女生退學人數資料\n",
    "male_dropout = df[df['性別'] == '女'][['學校名稱', '退學人數小計']]\n",
    "# 依照退學人數小計做遞增排序，並取前10筆\n",
    "lowest_male_dropout = male_dropout.sort_values('退學人數小計', ascending=True).head(10)\n",
    "# 顯示結果\n",
    "lowest_male_dropout[['學校名稱']]"
   ]
  },
  {
   "attachments": {},
   "cell_type": "markdown",
   "metadata": {},
   "source": [
    "8.男生退學人數前10多的學校為何?"
   ]
  },
  {
   "cell_type": "code",
   "execution_count": 160,
   "metadata": {},
   "outputs": [
    {
     "data": {
      "text/html": [
       "<div>\n",
       "<style scoped>\n",
       "    .dataframe tbody tr th:only-of-type {\n",
       "        vertical-align: middle;\n",
       "    }\n",
       "\n",
       "    .dataframe tbody tr th {\n",
       "        vertical-align: top;\n",
       "    }\n",
       "\n",
       "    .dataframe thead th {\n",
       "        text-align: right;\n",
       "    }\n",
       "</style>\n",
       "<table border=\"1\" class=\"dataframe\">\n",
       "  <thead>\n",
       "    <tr style=\"text-align: right;\">\n",
       "      <th></th>\n",
       "      <th></th>\n",
       "      <th>退學人數小計</th>\n",
       "    </tr>\n",
       "    <tr>\n",
       "      <th>學校統計處代碼</th>\n",
       "      <th>學校名稱</th>\n",
       "      <th></th>\n",
       "    </tr>\n",
       "  </thead>\n",
       "  <tbody>\n",
       "    <tr>\n",
       "      <th>1006</th>\n",
       "      <th>中國文化大學</th>\n",
       "      <td>3460</td>\n",
       "    </tr>\n",
       "    <tr>\n",
       "      <th>1005</th>\n",
       "      <th>淡江大學</th>\n",
       "      <td>3260</td>\n",
       "    </tr>\n",
       "    <tr>\n",
       "      <th>1037</th>\n",
       "      <th>正修學校財團法人正修科技大學</th>\n",
       "      <td>3125</td>\n",
       "    </tr>\n",
       "    <tr>\n",
       "      <th>1032</th>\n",
       "      <th>明新學校財團法人明新科技大學</th>\n",
       "      <td>2860</td>\n",
       "    </tr>\n",
       "    <tr>\n",
       "      <th>1002</th>\n",
       "      <th>輔仁大學</th>\n",
       "      <td>2736</td>\n",
       "    </tr>\n",
       "    <tr>\n",
       "      <th>0003</th>\n",
       "      <th>國立臺灣大學</th>\n",
       "      <td>2481</td>\n",
       "    </tr>\n",
       "    <tr>\n",
       "      <th>1007</th>\n",
       "      <th>逢甲大學</th>\n",
       "      <td>2456</td>\n",
       "    </tr>\n",
       "    <tr>\n",
       "      <th>1030</th>\n",
       "      <th>龍華科技大學</th>\n",
       "      <td>2430</td>\n",
       "    </tr>\n",
       "    <tr>\n",
       "      <th>1014</th>\n",
       "      <th>義守大學</th>\n",
       "      <td>2414</td>\n",
       "    </tr>\n",
       "    <tr>\n",
       "      <th>1036</th>\n",
       "      <th>健行學校財團法人健行科技大學</th>\n",
       "      <td>2135</td>\n",
       "    </tr>\n",
       "  </tbody>\n",
       "</table>\n",
       "</div>"
      ],
      "text/plain": [
       "                        退學人數小計\n",
       "學校統計處代碼 學校名稱                  \n",
       "1006    中國文化大學            3460\n",
       "1005    淡江大學              3260\n",
       "1037    正修學校財團法人正修科技大學    3125\n",
       "1032    明新學校財團法人明新科技大學    2860\n",
       "1002    輔仁大學              2736\n",
       "0003    國立臺灣大學            2481\n",
       "1007    逢甲大學              2456\n",
       "1030    龍華科技大學            2430\n",
       "1014    義守大學              2414\n",
       "1036    健行學校財團法人健行科技大學    2135"
      ]
     },
     "execution_count": 160,
     "metadata": {},
     "output_type": "execute_result"
    }
   ],
   "source": [
    "# 取得男生退學人數\n",
    "male_dropout = df[df['性別'] == '男']['退學人數小計']\n",
    "\n",
    "# 取得男生退學人數前10多的學校代碼及名稱\n",
    "school_male_dropout = df[df['性別'] == '男'][['學校統計處代碼', '學校名稱', '退學人數小計']].groupby(['學校統計處代碼', '學校名稱']).sum().sort_values(by='退學人數小計', ascending=False).head(10)\n",
    "\n",
    "# 顯示結果\n",
    "school_male_dropout"
   ]
  },
  {
   "attachments": {},
   "cell_type": "markdown",
   "metadata": {},
   "source": [
    "9.女生退學人數前10多的學校為何?"
   ]
  },
  {
   "cell_type": "code",
   "execution_count": 159,
   "metadata": {},
   "outputs": [
    {
     "data": {
      "text/html": [
       "<div>\n",
       "<style scoped>\n",
       "    .dataframe tbody tr th:only-of-type {\n",
       "        vertical-align: middle;\n",
       "    }\n",
       "\n",
       "    .dataframe tbody tr th {\n",
       "        vertical-align: top;\n",
       "    }\n",
       "\n",
       "    .dataframe thead th {\n",
       "        text-align: right;\n",
       "    }\n",
       "</style>\n",
       "<table border=\"1\" class=\"dataframe\">\n",
       "  <thead>\n",
       "    <tr style=\"text-align: right;\">\n",
       "      <th></th>\n",
       "      <th></th>\n",
       "      <th>退學人數小計</th>\n",
       "    </tr>\n",
       "    <tr>\n",
       "      <th>學校統計處代碼</th>\n",
       "      <th>學校名稱</th>\n",
       "      <th></th>\n",
       "    </tr>\n",
       "  </thead>\n",
       "  <tbody>\n",
       "    <tr>\n",
       "      <th>1006</th>\n",
       "      <th>中國文化大學</th>\n",
       "      <td>2734</td>\n",
       "    </tr>\n",
       "    <tr>\n",
       "      <th>1002</th>\n",
       "      <th>輔仁大學</th>\n",
       "      <td>2548</td>\n",
       "    </tr>\n",
       "    <tr>\n",
       "      <th>1017</th>\n",
       "      <th>實踐大學</th>\n",
       "      <td>2010</td>\n",
       "    </tr>\n",
       "    <tr>\n",
       "      <th>1005</th>\n",
       "      <th>淡江大學</th>\n",
       "      <td>1863</td>\n",
       "    </tr>\n",
       "    <tr>\n",
       "      <th>1037</th>\n",
       "      <th>正修學校財團法人正修科技大學</th>\n",
       "      <td>1784</td>\n",
       "    </tr>\n",
       "    <tr>\n",
       "      <th>1051</th>\n",
       "      <th>台南家專學校財團法人台南應用科技大學</th>\n",
       "      <td>1740</td>\n",
       "    </tr>\n",
       "    <tr>\n",
       "      <th>1018</th>\n",
       "      <th>朝陽科技大學</th>\n",
       "      <td>1583</td>\n",
       "    </tr>\n",
       "    <tr>\n",
       "      <th>1025</th>\n",
       "      <th>嘉藥學校財團法人嘉南藥理大學</th>\n",
       "      <td>1561</td>\n",
       "    </tr>\n",
       "    <tr>\n",
       "      <th>1073</th>\n",
       "      <th>醒吾學校財團法人醒吾科技大學</th>\n",
       "      <td>1517</td>\n",
       "    </tr>\n",
       "    <tr>\n",
       "      <th>1032</th>\n",
       "      <th>明新學校財團法人明新科技大學</th>\n",
       "      <td>1501</td>\n",
       "    </tr>\n",
       "  </tbody>\n",
       "</table>\n",
       "</div>"
      ],
      "text/plain": [
       "                            退學人數小計\n",
       "學校統計處代碼 學校名稱                      \n",
       "1006    中國文化大學                2734\n",
       "1002    輔仁大學                  2548\n",
       "1017    實踐大學                  2010\n",
       "1005    淡江大學                  1863\n",
       "1037    正修學校財團法人正修科技大學        1784\n",
       "1051    台南家專學校財團法人台南應用科技大學    1740\n",
       "1018    朝陽科技大學                1583\n",
       "1025    嘉藥學校財團法人嘉南藥理大學        1561\n",
       "1073    醒吾學校財團法人醒吾科技大學        1517\n",
       "1032    明新學校財團法人明新科技大學        1501"
      ]
     },
     "execution_count": 159,
     "metadata": {},
     "output_type": "execute_result"
    }
   ],
   "source": [
    "# 取得女生退學人數\n",
    "male_dropout = df[df['性別'] == '女']['退學人數小計']\n",
    "\n",
    "# 取得女生退學人數前10多的學校代碼及名稱\n",
    "school_male_dropout = df[df['性別'] == '女'][['學校統計處代碼', '學校名稱', '退學人數小計']].groupby(['學校統計處代碼', '學校名稱']).sum().sort_values(by='退學人數小計', ascending=False).head(10)\n",
    "\n",
    "# 顯示結果\n",
    "school_male_dropout"
   ]
  },
  {
   "attachments": {},
   "cell_type": "markdown",
   "metadata": {},
   "source": [
    "10.顯示各種退學原因的人數"
   ]
  },
  {
   "cell_type": "code",
   "execution_count": 10,
   "metadata": {},
   "outputs": [
    {
     "data": {
      "text/plain": [
       "退學人數小計                                                     271352\n",
       "因學業成績退學人數                                                   31634\n",
       "因操行成績退學人數                                                    2081\n",
       "因志趣不合退學人數                                                   68728\n",
       "因逾期未註冊退學人數                                                  47487\n",
       "因休學逾期未復學退學人數                                                88518\n",
       "因懷孕退學人數                                                        69\n",
       "因育嬰退學人數                                                       117\n",
       "因病退學人數                                                       1038\n",
       "因工作需求退學人數                                                    9970\n",
       "因經濟困難退學人數       .................................................\n",
       "因生涯規劃退學人數       .................................................\n",
       "其他(不含死亡)退學人數                                                16064\n",
       "dtype: object"
      ]
     },
     "execution_count": 10,
     "metadata": {},
     "output_type": "execute_result"
    }
   ],
   "source": [
    "reason_counts = df.iloc[:, 9:].sum()\n",
    "reason_counts"
   ]
  }
 ],
 "metadata": {
  "kernelspec": {
   "display_name": "base",
   "language": "python",
   "name": "python3"
  },
  "language_info": {
   "codemirror_mode": {
    "name": "ipython",
    "version": 3
   },
   "file_extension": ".py",
   "mimetype": "text/x-python",
   "name": "python",
   "nbconvert_exporter": "python",
   "pygments_lexer": "ipython3",
   "version": "3.9.13"
  },
  "orig_nbformat": 4
 },
 "nbformat": 4,
 "nbformat_minor": 2
}
